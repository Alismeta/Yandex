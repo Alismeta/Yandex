{
 "cells": [
  {
   "cell_type": "markdown",
   "id": "c77b1de0",
   "metadata": {},
   "source": [
    "# Description"
   ]
  },
  {
   "cell_type": "markdown",
   "id": "e6b0d64e",
   "metadata": {},
   "source": [
    "Вам предоставлены пробы нефти в трёх регионах. Характеристики для каждой скважины в регионе уже известны. Постройте модель для определения региона, где добыча принесёт наибольшую прибыль. Проанализируйте возможную прибыль и риски техникой Bootstrap."
   ]
  },
  {
   "cell_type": "code",
   "execution_count": 1,
   "id": "ba107ea7",
   "metadata": {},
   "outputs": [],
   "source": [
    "import pandas as pd\n",
    "import numpy as np\n",
    "import random\n",
    "\n",
    "from sklearn.linear_model import LinearRegression\n",
    "from sklearn.model_selection import train_test_split\n",
    "from sklearn.metrics import mean_squared_error\n",
    "from sklearn.preprocessing import StandardScaler, MinMaxScaler\n",
    "\n",
    "#import phik\n",
    "#from phik.report import plot_correlation_matrix\n",
    "#from phik import report\n",
    "\n",
    "import seaborn as sns"
   ]
  },
  {
   "cell_type": "code",
   "execution_count": 2,
   "id": "8ad2b53f",
   "metadata": {},
   "outputs": [],
   "source": [
    "#parameters for calculations\n",
    "\n",
    "POINTS_CONSIDERED = 500 #points to consider\n",
    "POINTS_BEST = 200 #best 200 points of considered\n",
    "\n",
    "TOTAL_BUDGET = 10e9 #rubles\n",
    "POINT_PROFIT= 450e3 #rubles profit from one point\n",
    "\n",
    "RISK_LIMIT = 0.025"
   ]
  },
  {
   "cell_type": "code",
   "execution_count": 3,
   "id": "18788a0a",
   "metadata": {},
   "outputs": [],
   "source": [
    "#set palette for tables\n",
    "cm = sns.light_palette(\"green\", as_cmap=True)"
   ]
  },
  {
   "cell_type": "markdown",
   "id": "399d0d04",
   "metadata": {},
   "source": [
    "# Handling and preparing data "
   ]
  },
  {
   "cell_type": "code",
   "execution_count": 4,
   "id": "1baaf989",
   "metadata": {},
   "outputs": [],
   "source": [
    "#download the data\n",
    "try:\n",
    "    data_0 = pd.read_csv('D:/yandex_praktikum/geo_data_0.csv')\n",
    "except:\n",
    "     data_0 = pd.read_csv('/datasets/geo_data_0.csv')\n",
    "        \n",
    "try:\n",
    "    data_1 = pd.read_csv('D:/yandex_praktikum/geo_data_1.csv')\n",
    "except:\n",
    "     data_1 = pd.read_csv('/datasets/geo_data_1.csv')\n",
    "        \n",
    "try:\n",
    "    data_2 = pd.read_csv('D:/yandex_praktikum/geo_data_2.csv')\n",
    "except:\n",
    "     data_2 = pd.read_csv('/datasets/geo_data_2.csv')"
   ]
  },
  {
   "cell_type": "markdown",
   "id": "3305007f",
   "metadata": {},
   "source": [
    "## Region 0"
   ]
  },
  {
   "cell_type": "code",
   "execution_count": 5,
   "id": "710bc173",
   "metadata": {
    "scrolled": false
   },
   "outputs": [
    {
     "data": {
      "text/html": [
       "<div>\n",
       "<style scoped>\n",
       "    .dataframe tbody tr th:only-of-type {\n",
       "        vertical-align: middle;\n",
       "    }\n",
       "\n",
       "    .dataframe tbody tr th {\n",
       "        vertical-align: top;\n",
       "    }\n",
       "\n",
       "    .dataframe thead th {\n",
       "        text-align: right;\n",
       "    }\n",
       "</style>\n",
       "<table border=\"1\" class=\"dataframe\">\n",
       "  <thead>\n",
       "    <tr style=\"text-align: right;\">\n",
       "      <th></th>\n",
       "      <th>id</th>\n",
       "      <th>f0</th>\n",
       "      <th>f1</th>\n",
       "      <th>f2</th>\n",
       "      <th>product</th>\n",
       "    </tr>\n",
       "  </thead>\n",
       "  <tbody>\n",
       "    <tr>\n",
       "      <th>0</th>\n",
       "      <td>txEyH</td>\n",
       "      <td>0.705745</td>\n",
       "      <td>-0.497823</td>\n",
       "      <td>1.221170</td>\n",
       "      <td>105.280062</td>\n",
       "    </tr>\n",
       "    <tr>\n",
       "      <th>1</th>\n",
       "      <td>2acmU</td>\n",
       "      <td>1.334711</td>\n",
       "      <td>-0.340164</td>\n",
       "      <td>4.365080</td>\n",
       "      <td>73.037750</td>\n",
       "    </tr>\n",
       "    <tr>\n",
       "      <th>2</th>\n",
       "      <td>409Wp</td>\n",
       "      <td>1.022732</td>\n",
       "      <td>0.151990</td>\n",
       "      <td>1.419926</td>\n",
       "      <td>85.265647</td>\n",
       "    </tr>\n",
       "    <tr>\n",
       "      <th>3</th>\n",
       "      <td>iJLyR</td>\n",
       "      <td>-0.032172</td>\n",
       "      <td>0.139033</td>\n",
       "      <td>2.978566</td>\n",
       "      <td>168.620776</td>\n",
       "    </tr>\n",
       "    <tr>\n",
       "      <th>4</th>\n",
       "      <td>Xdl7t</td>\n",
       "      <td>1.988431</td>\n",
       "      <td>0.155413</td>\n",
       "      <td>4.751769</td>\n",
       "      <td>154.036647</td>\n",
       "    </tr>\n",
       "  </tbody>\n",
       "</table>\n",
       "</div>"
      ],
      "text/plain": [
       "      id        f0        f1        f2     product\n",
       "0  txEyH  0.705745 -0.497823  1.221170  105.280062\n",
       "1  2acmU  1.334711 -0.340164  4.365080   73.037750\n",
       "2  409Wp  1.022732  0.151990  1.419926   85.265647\n",
       "3  iJLyR -0.032172  0.139033  2.978566  168.620776\n",
       "4  Xdl7t  1.988431  0.155413  4.751769  154.036647"
      ]
     },
     "metadata": {},
     "output_type": "display_data"
    },
    {
     "name": "stdout",
     "output_type": "stream",
     "text": [
      "<class 'pandas.core.frame.DataFrame'>\n",
      "RangeIndex: 100000 entries, 0 to 99999\n",
      "Data columns (total 5 columns):\n",
      " #   Column   Non-Null Count   Dtype  \n",
      "---  ------   --------------   -----  \n",
      " 0   id       100000 non-null  object \n",
      " 1   f0       100000 non-null  float64\n",
      " 2   f1       100000 non-null  float64\n",
      " 3   f2       100000 non-null  float64\n",
      " 4   product  100000 non-null  float64\n",
      "dtypes: float64(4), object(1)\n",
      "memory usage: 3.8+ MB\n"
     ]
    },
    {
     "data": {
      "text/html": [
       "<style  type=\"text/css\" >\n",
       "#T_ed76a_row0_col0,#T_ed76a_row1_col1,#T_ed76a_row2_col2,#T_ed76a_row3_col3{\n",
       "            background-color:  #008000;\n",
       "            color:  #f1f1f1;\n",
       "        }#T_ed76a_row0_col1,#T_ed76a_row0_col2,#T_ed76a_row1_col0,#T_ed76a_row1_col3{\n",
       "            background-color:  #ebf3eb;\n",
       "            color:  #000000;\n",
       "        }#T_ed76a_row0_col3{\n",
       "            background-color:  #a8d2a8;\n",
       "            color:  #000000;\n",
       "        }#T_ed76a_row1_col2{\n",
       "            background-color:  #eaf2ea;\n",
       "            color:  #000000;\n",
       "        }#T_ed76a_row2_col0{\n",
       "            background-color:  #a4d0a4;\n",
       "            color:  #000000;\n",
       "        }#T_ed76a_row2_col1{\n",
       "            background-color:  #a3d0a3;\n",
       "            color:  #000000;\n",
       "        }#T_ed76a_row2_col3{\n",
       "            background-color:  #65b265;\n",
       "            color:  #000000;\n",
       "        }#T_ed76a_row3_col0{\n",
       "            background-color:  #8cc58c;\n",
       "            color:  #000000;\n",
       "        }#T_ed76a_row3_col1{\n",
       "            background-color:  #c2dfc2;\n",
       "            color:  #000000;\n",
       "        }#T_ed76a_row3_col2{\n",
       "            background-color:  #78bb78;\n",
       "            color:  #000000;\n",
       "        }</style><table id=\"T_ed76a_\" ><thead>    <tr>        <th class=\"blank level0\" ></th>        <th class=\"col_heading level0 col0\" >f0</th>        <th class=\"col_heading level0 col1\" >f1</th>        <th class=\"col_heading level0 col2\" >f2</th>        <th class=\"col_heading level0 col3\" >product</th>    </tr></thead><tbody>\n",
       "                <tr>\n",
       "                        <th id=\"T_ed76a_level0_row0\" class=\"row_heading level0 row0\" >f0</th>\n",
       "                        <td id=\"T_ed76a_row0_col0\" class=\"data row0 col0\" >1.000000</td>\n",
       "                        <td id=\"T_ed76a_row0_col1\" class=\"data row0 col1\" >-0.440723</td>\n",
       "                        <td id=\"T_ed76a_row0_col2\" class=\"data row0 col2\" >-0.003153</td>\n",
       "                        <td id=\"T_ed76a_row0_col3\" class=\"data row0 col3\" >0.143536</td>\n",
       "            </tr>\n",
       "            <tr>\n",
       "                        <th id=\"T_ed76a_level0_row1\" class=\"row_heading level0 row1\" >f1</th>\n",
       "                        <td id=\"T_ed76a_row1_col0\" class=\"data row1 col0\" >-0.440723</td>\n",
       "                        <td id=\"T_ed76a_row1_col1\" class=\"data row1 col1\" >1.000000</td>\n",
       "                        <td id=\"T_ed76a_row1_col2\" class=\"data row1 col2\" >0.001724</td>\n",
       "                        <td id=\"T_ed76a_row1_col3\" class=\"data row1 col3\" >-0.192356</td>\n",
       "            </tr>\n",
       "            <tr>\n",
       "                        <th id=\"T_ed76a_level0_row2\" class=\"row_heading level0 row2\" >f2</th>\n",
       "                        <td id=\"T_ed76a_row2_col0\" class=\"data row2 col0\" >-0.003153</td>\n",
       "                        <td id=\"T_ed76a_row2_col1\" class=\"data row2 col1\" >0.001724</td>\n",
       "                        <td id=\"T_ed76a_row2_col2\" class=\"data row2 col2\" >1.000000</td>\n",
       "                        <td id=\"T_ed76a_row2_col3\" class=\"data row2 col3\" >0.483663</td>\n",
       "            </tr>\n",
       "            <tr>\n",
       "                        <th id=\"T_ed76a_level0_row3\" class=\"row_heading level0 row3\" >product</th>\n",
       "                        <td id=\"T_ed76a_row3_col0\" class=\"data row3 col0\" >0.143536</td>\n",
       "                        <td id=\"T_ed76a_row3_col1\" class=\"data row3 col1\" >-0.192356</td>\n",
       "                        <td id=\"T_ed76a_row3_col2\" class=\"data row3 col2\" >0.483663</td>\n",
       "                        <td id=\"T_ed76a_row3_col3\" class=\"data row3 col3\" >1.000000</td>\n",
       "            </tr>\n",
       "    </tbody></table>"
      ],
      "text/plain": [
       "<pandas.io.formats.style.Styler at 0x7fda119816a0>"
      ]
     },
     "execution_count": 5,
     "metadata": {},
     "output_type": "execute_result"
    },
    {
     "data": {
      "image/png": "[encoded data removed]",
      "text/plain": [
       "<Figure size 432x288 with 4 Axes>"
      ]
     },
     "metadata": {
      "needs_background": "light"
     },
     "output_type": "display_data"
    }
   ],
   "source": [
    "#region 0\n",
    "display(data_0.head())\n",
    "data_0.info()\n",
    "len(data_0[data_0.duplicated()==True])\n",
    "data_0.hist(bins=50)\n",
    "data_0.corr().style.background_gradient(cmap=cm)"
   ]
  },
  {
   "cell_type": "code",
   "execution_count": 6,
   "id": "5526e12c",
   "metadata": {},
   "outputs": [
    {
     "data": {
      "text/plain": [
       "AGS9W    2\n",
       "HZww2    2\n",
       "bxg6G    2\n",
       "74z30    2\n",
       "bsk9y    2\n",
       "fiKDv    2\n",
       "A5aEY    2\n",
       "TtcGQ    2\n",
       "QcMuo    2\n",
       "Tdehs    2\n",
       "UCupo    1\n",
       "SIeAv    1\n",
       "zrw9s    1\n",
       "UazKa    1\n",
       "hNLk3    1\n",
       "Ew4c5    1\n",
       "ktgOS    1\n",
       "U4P78    1\n",
       "FXzb5    1\n",
       "wpLqE    1\n",
       "Name: id, dtype: int64"
      ]
     },
     "execution_count": 6,
     "metadata": {},
     "output_type": "execute_result"
    }
   ],
   "source": [
    "data_0['id'].value_counts().head(20)"
   ]
  },
  {
   "cell_type": "code",
   "execution_count": 7,
   "id": "beb87106",
   "metadata": {},
   "outputs": [],
   "source": [
    "data_0 = data_0.drop_duplicates(subset='id')"
   ]
  },
  {
   "cell_type": "markdown",
   "id": "12ea61b5",
   "metadata": {},
   "source": [
    "    f0, f1 are not normally distributed\n",
    "    f2 has normal distribution"
   ]
  },
  {
   "cell_type": "markdown",
   "id": "f46bcd30",
   "metadata": {},
   "source": [
    "## Region 1"
   ]
  },
  {
   "cell_type": "code",
   "execution_count": 8,
   "id": "6c529bdc",
   "metadata": {},
   "outputs": [
    {
     "data": {
      "text/html": [
       "<div>\n",
       "<style scoped>\n",
       "    .dataframe tbody tr th:only-of-type {\n",
       "        vertical-align: middle;\n",
       "    }\n",
       "\n",
       "    .dataframe tbody tr th {\n",
       "        vertical-align: top;\n",
       "    }\n",
       "\n",
       "    .dataframe thead th {\n",
       "        text-align: right;\n",
       "    }\n",
       "</style>\n",
       "<table border=\"1\" class=\"dataframe\">\n",
       "  <thead>\n",
       "    <tr style=\"text-align: right;\">\n",
       "      <th></th>\n",
       "      <th>id</th>\n",
       "      <th>f0</th>\n",
       "      <th>f1</th>\n",
       "      <th>f2</th>\n",
       "      <th>product</th>\n",
       "    </tr>\n",
       "  </thead>\n",
       "  <tbody>\n",
       "    <tr>\n",
       "      <th>0</th>\n",
       "      <td>kBEdx</td>\n",
       "      <td>-15.001348</td>\n",
       "      <td>-8.276000</td>\n",
       "      <td>-0.005876</td>\n",
       "      <td>3.179103</td>\n",
       "    </tr>\n",
       "    <tr>\n",
       "      <th>1</th>\n",
       "      <td>62mP7</td>\n",
       "      <td>14.272088</td>\n",
       "      <td>-3.475083</td>\n",
       "      <td>0.999183</td>\n",
       "      <td>26.953261</td>\n",
       "    </tr>\n",
       "    <tr>\n",
       "      <th>2</th>\n",
       "      <td>vyE1P</td>\n",
       "      <td>6.263187</td>\n",
       "      <td>-5.948386</td>\n",
       "      <td>5.001160</td>\n",
       "      <td>134.766305</td>\n",
       "    </tr>\n",
       "    <tr>\n",
       "      <th>3</th>\n",
       "      <td>KcrkZ</td>\n",
       "      <td>-13.081196</td>\n",
       "      <td>-11.506057</td>\n",
       "      <td>4.999415</td>\n",
       "      <td>137.945408</td>\n",
       "    </tr>\n",
       "    <tr>\n",
       "      <th>4</th>\n",
       "      <td>AHL4O</td>\n",
       "      <td>12.702195</td>\n",
       "      <td>-8.147433</td>\n",
       "      <td>5.004363</td>\n",
       "      <td>134.766305</td>\n",
       "    </tr>\n",
       "  </tbody>\n",
       "</table>\n",
       "</div>"
      ],
      "text/plain": [
       "      id         f0         f1        f2     product\n",
       "0  kBEdx -15.001348  -8.276000 -0.005876    3.179103\n",
       "1  62mP7  14.272088  -3.475083  0.999183   26.953261\n",
       "2  vyE1P   6.263187  -5.948386  5.001160  134.766305\n",
       "3  KcrkZ -13.081196 -11.506057  4.999415  137.945408\n",
       "4  AHL4O  12.702195  -8.147433  5.004363  134.766305"
      ]
     },
     "metadata": {},
     "output_type": "display_data"
    },
    {
     "name": "stdout",
     "output_type": "stream",
     "text": [
      "<class 'pandas.core.frame.DataFrame'>\n",
      "RangeIndex: 100000 entries, 0 to 99999\n",
      "Data columns (total 5 columns):\n",
      " #   Column   Non-Null Count   Dtype  \n",
      "---  ------   --------------   -----  \n",
      " 0   id       100000 non-null  object \n",
      " 1   f0       100000 non-null  float64\n",
      " 2   f1       100000 non-null  float64\n",
      " 3   f2       100000 non-null  float64\n",
      " 4   product  100000 non-null  float64\n",
      "dtypes: float64(4), object(1)\n",
      "memory usage: 3.8+ MB\n",
      "53.906522     8472\n",
      "26.953261     8468\n",
      "84.038886     8431\n",
      "57.085625     8390\n",
      "3.179103      8337\n",
      "80.859783     8320\n",
      "30.132364     8306\n",
      "134.766305    8304\n",
      "110.992147    8303\n",
      "0.000000      8235\n",
      "137.945408    8233\n",
      "107.813044    8201\n",
      "Name: product, dtype: int64\n",
      "3.996243    1\n",
      "4.003988    1\n",
      "1.996189    1\n",
      "0.996936    1\n",
      "3.998589    1\n",
      "           ..\n",
      "1.004759    1\n",
      "4.997377    1\n",
      "3.003466    1\n",
      "0.001041    1\n",
      "4.992682    1\n",
      "Name: f2, Length: 100000, dtype: int64\n"
     ]
    },
    {
     "data": {
      "image/png": "[encoded data removed]",
      "text/plain": [
       "<Figure size 432x288 with 4 Axes>"
      ]
     },
     "metadata": {
      "needs_background": "light"
     },
     "output_type": "display_data"
    }
   ],
   "source": [
    "display(data_1.head())\n",
    "data_1.info()\n",
    "len(data_1[data_1.duplicated()==True])\n",
    "data_1.hist(bins=100)\n",
    "data_1.corr()\n",
    "print(data_1['product'].value_counts())\n",
    "print(data_1['f2'].value_counts())"
   ]
  },
  {
   "cell_type": "code",
   "execution_count": 9,
   "id": "45985557",
   "metadata": {},
   "outputs": [
    {
     "data": {
      "text/plain": [
       "LHZR0    2\n",
       "5ltQ6    2\n",
       "wt4Uk    2\n",
       "bfPNe    2\n",
       "a2Nh8    1\n",
       "uMvYH    1\n",
       "62RQ1    1\n",
       "xB3su    1\n",
       "Mm77U    1\n",
       "t8EK3    1\n",
       "sBWwi    1\n",
       "XOxbl    1\n",
       "u5DsV    1\n",
       "XSHS3    1\n",
       "tUzHX    1\n",
       "gaivD    1\n",
       "FYQdM    1\n",
       "bfRoa    1\n",
       "kz9TK    1\n",
       "Gbhhi    1\n",
       "Name: id, dtype: int64"
      ]
     },
     "execution_count": 9,
     "metadata": {},
     "output_type": "execute_result"
    }
   ],
   "source": [
    "data_1['id'].value_counts().head(20)"
   ]
  },
  {
   "cell_type": "code",
   "execution_count": 10,
   "id": "f3813422",
   "metadata": {},
   "outputs": [],
   "source": [
    "data_1 = data_1.drop_duplicates(subset='id')"
   ]
  },
  {
   "cell_type": "code",
   "execution_count": 11,
   "id": "0012cfdf",
   "metadata": {},
   "outputs": [
    {
     "data": {
      "text/html": [
       "<style  type=\"text/css\" >\n",
       "#T_9585e_row0_col0,#T_9585e_row1_col1,#T_9585e_row2_col2,#T_9585e_row2_col3,#T_9585e_row3_col2,#T_9585e_row3_col3{\n",
       "            background-color:  #008000;\n",
       "            color:  #f1f1f1;\n",
       "        }#T_9585e_row0_col1{\n",
       "            background-color:  #beddbe;\n",
       "            color:  #000000;\n",
       "        }#T_9585e_row0_col2,#T_9585e_row0_col3,#T_9585e_row1_col2,#T_9585e_row3_col0,#T_9585e_row3_col1{\n",
       "            background-color:  #ebf3eb;\n",
       "            color:  #000000;\n",
       "        }#T_9585e_row1_col0{\n",
       "            background-color:  #bbdcbb;\n",
       "            color:  #000000;\n",
       "        }#T_9585e_row1_col3{\n",
       "            background-color:  #e6f1e6;\n",
       "            color:  #000000;\n",
       "        }#T_9585e_row2_col0{\n",
       "            background-color:  #e4f0e4;\n",
       "            color:  #000000;\n",
       "        }#T_9585e_row2_col1{\n",
       "            background-color:  #eaf2ea;\n",
       "            color:  #000000;\n",
       "        }</style><table id=\"T_9585e_\" ><thead>    <tr>        <th class=\"blank level0\" ></th>        <th class=\"col_heading level0 col0\" >f0</th>        <th class=\"col_heading level0 col1\" >f1</th>        <th class=\"col_heading level0 col2\" >f2</th>        <th class=\"col_heading level0 col3\" >product</th>    </tr></thead><tbody>\n",
       "                <tr>\n",
       "                        <th id=\"T_9585e_level0_row0\" class=\"row_heading level0 row0\" >f0</th>\n",
       "                        <td id=\"T_9585e_row0_col0\" class=\"data row0 col0\" >1.000000</td>\n",
       "                        <td id=\"T_9585e_row0_col1\" class=\"data row0 col1\" >0.182279</td>\n",
       "                        <td id=\"T_9585e_row0_col2\" class=\"data row0 col2\" >-0.001810</td>\n",
       "                        <td id=\"T_9585e_row0_col3\" class=\"data row0 col3\" >-0.030523</td>\n",
       "            </tr>\n",
       "            <tr>\n",
       "                        <th id=\"T_9585e_level0_row1\" class=\"row_heading level0 row1\" >f1</th>\n",
       "                        <td id=\"T_9585e_row1_col0\" class=\"data row1 col0\" >0.182279</td>\n",
       "                        <td id=\"T_9585e_row1_col1\" class=\"data row1 col1\" >1.000000</td>\n",
       "                        <td id=\"T_9585e_row1_col2\" class=\"data row1 col2\" >-0.002594</td>\n",
       "                        <td id=\"T_9585e_row1_col3\" class=\"data row1 col3\" >-0.010154</td>\n",
       "            </tr>\n",
       "            <tr>\n",
       "                        <th id=\"T_9585e_level0_row2\" class=\"row_heading level0 row2\" >f2</th>\n",
       "                        <td id=\"T_9585e_row2_col0\" class=\"data row2 col0\" >-0.001810</td>\n",
       "                        <td id=\"T_9585e_row2_col1\" class=\"data row2 col1\" >-0.002594</td>\n",
       "                        <td id=\"T_9585e_row2_col2\" class=\"data row2 col2\" >1.000000</td>\n",
       "                        <td id=\"T_9585e_row2_col3\" class=\"data row2 col3\" >0.999397</td>\n",
       "            </tr>\n",
       "            <tr>\n",
       "                        <th id=\"T_9585e_level0_row3\" class=\"row_heading level0 row3\" >product</th>\n",
       "                        <td id=\"T_9585e_row3_col0\" class=\"data row3 col0\" >-0.030523</td>\n",
       "                        <td id=\"T_9585e_row3_col1\" class=\"data row3 col1\" >-0.010154</td>\n",
       "                        <td id=\"T_9585e_row3_col2\" class=\"data row3 col2\" >0.999397</td>\n",
       "                        <td id=\"T_9585e_row3_col3\" class=\"data row3 col3\" >1.000000</td>\n",
       "            </tr>\n",
       "    </tbody></table>"
      ],
      "text/plain": [
       "<pandas.io.formats.style.Styler at 0x7fda944beb20>"
      ]
     },
     "execution_count": 11,
     "metadata": {},
     "output_type": "execute_result"
    }
   ],
   "source": [
    "data_1.corr().style.background_gradient(cmap=cm)"
   ]
  },
  {
   "cell_type": "markdown",
   "id": "f6201a1b",
   "metadata": {},
   "source": [
    "    f0 has two peaks\n",
    "    f1 has normal distribution\n",
    "    f2 looks almost like discrete values though it is not\n",
    "    product is a discrete value"
   ]
  },
  {
   "cell_type": "markdown",
   "id": "8884e300",
   "metadata": {},
   "source": [
    "A really strange data, especially parameter f2, that is strongly correlated with the target product"
   ]
  },
  {
   "cell_type": "markdown",
   "id": "ff738c98",
   "metadata": {},
   "source": [
    "## Region 2"
   ]
  },
  {
   "cell_type": "code",
   "execution_count": 12,
   "id": "fd990be5",
   "metadata": {},
   "outputs": [
    {
     "data": {
      "text/html": [
       "<div>\n",
       "<style scoped>\n",
       "    .dataframe tbody tr th:only-of-type {\n",
       "        vertical-align: middle;\n",
       "    }\n",
       "\n",
       "    .dataframe tbody tr th {\n",
       "        vertical-align: top;\n",
       "    }\n",
       "\n",
       "    .dataframe thead th {\n",
       "        text-align: right;\n",
       "    }\n",
       "</style>\n",
       "<table border=\"1\" class=\"dataframe\">\n",
       "  <thead>\n",
       "    <tr style=\"text-align: right;\">\n",
       "      <th></th>\n",
       "      <th>id</th>\n",
       "      <th>f0</th>\n",
       "      <th>f1</th>\n",
       "      <th>f2</th>\n",
       "      <th>product</th>\n",
       "    </tr>\n",
       "  </thead>\n",
       "  <tbody>\n",
       "    <tr>\n",
       "      <th>0</th>\n",
       "      <td>fwXo0</td>\n",
       "      <td>-1.146987</td>\n",
       "      <td>0.963328</td>\n",
       "      <td>-0.828965</td>\n",
       "      <td>27.758673</td>\n",
       "    </tr>\n",
       "    <tr>\n",
       "      <th>1</th>\n",
       "      <td>WJtFt</td>\n",
       "      <td>0.262778</td>\n",
       "      <td>0.269839</td>\n",
       "      <td>-2.530187</td>\n",
       "      <td>56.069697</td>\n",
       "    </tr>\n",
       "    <tr>\n",
       "      <th>2</th>\n",
       "      <td>ovLUW</td>\n",
       "      <td>0.194587</td>\n",
       "      <td>0.289035</td>\n",
       "      <td>-5.586433</td>\n",
       "      <td>62.871910</td>\n",
       "    </tr>\n",
       "    <tr>\n",
       "      <th>3</th>\n",
       "      <td>q6cA6</td>\n",
       "      <td>2.236060</td>\n",
       "      <td>-0.553760</td>\n",
       "      <td>0.930038</td>\n",
       "      <td>114.572842</td>\n",
       "    </tr>\n",
       "    <tr>\n",
       "      <th>4</th>\n",
       "      <td>WPMUX</td>\n",
       "      <td>-0.515993</td>\n",
       "      <td>1.716266</td>\n",
       "      <td>5.899011</td>\n",
       "      <td>149.600746</td>\n",
       "    </tr>\n",
       "  </tbody>\n",
       "</table>\n",
       "</div>"
      ],
      "text/plain": [
       "      id        f0        f1        f2     product\n",
       "0  fwXo0 -1.146987  0.963328 -0.828965   27.758673\n",
       "1  WJtFt  0.262778  0.269839 -2.530187   56.069697\n",
       "2  ovLUW  0.194587  0.289035 -5.586433   62.871910\n",
       "3  q6cA6  2.236060 -0.553760  0.930038  114.572842\n",
       "4  WPMUX -0.515993  1.716266  5.899011  149.600746"
      ]
     },
     "metadata": {},
     "output_type": "display_data"
    },
    {
     "name": "stdout",
     "output_type": "stream",
     "text": [
      "<class 'pandas.core.frame.DataFrame'>\n",
      "RangeIndex: 100000 entries, 0 to 99999\n",
      "Data columns (total 5 columns):\n",
      " #   Column   Non-Null Count   Dtype  \n",
      "---  ------   --------------   -----  \n",
      " 0   id       100000 non-null  object \n",
      " 1   f0       100000 non-null  float64\n",
      " 2   f1       100000 non-null  float64\n",
      " 3   f2       100000 non-null  float64\n",
      " 4   product  100000 non-null  float64\n",
      "dtypes: float64(4), object(1)\n",
      "memory usage: 3.8+ MB\n"
     ]
    },
    {
     "data": {
      "text/html": [
       "<div>\n",
       "<style scoped>\n",
       "    .dataframe tbody tr th:only-of-type {\n",
       "        vertical-align: middle;\n",
       "    }\n",
       "\n",
       "    .dataframe tbody tr th {\n",
       "        vertical-align: top;\n",
       "    }\n",
       "\n",
       "    .dataframe thead th {\n",
       "        text-align: right;\n",
       "    }\n",
       "</style>\n",
       "<table border=\"1\" class=\"dataframe\">\n",
       "  <thead>\n",
       "    <tr style=\"text-align: right;\">\n",
       "      <th></th>\n",
       "      <th>f0</th>\n",
       "      <th>f1</th>\n",
       "      <th>f2</th>\n",
       "      <th>product</th>\n",
       "    </tr>\n",
       "  </thead>\n",
       "  <tbody>\n",
       "    <tr>\n",
       "      <th>f0</th>\n",
       "      <td>1.000000</td>\n",
       "      <td>0.000528</td>\n",
       "      <td>-0.000448</td>\n",
       "      <td>-0.001987</td>\n",
       "    </tr>\n",
       "    <tr>\n",
       "      <th>f1</th>\n",
       "      <td>0.000528</td>\n",
       "      <td>1.000000</td>\n",
       "      <td>0.000779</td>\n",
       "      <td>-0.001012</td>\n",
       "    </tr>\n",
       "    <tr>\n",
       "      <th>f2</th>\n",
       "      <td>-0.000448</td>\n",
       "      <td>0.000779</td>\n",
       "      <td>1.000000</td>\n",
       "      <td>0.445871</td>\n",
       "    </tr>\n",
       "    <tr>\n",
       "      <th>product</th>\n",
       "      <td>-0.001987</td>\n",
       "      <td>-0.001012</td>\n",
       "      <td>0.445871</td>\n",
       "      <td>1.000000</td>\n",
       "    </tr>\n",
       "  </tbody>\n",
       "</table>\n",
       "</div>"
      ],
      "text/plain": [
       "               f0        f1        f2   product\n",
       "f0       1.000000  0.000528 -0.000448 -0.001987\n",
       "f1       0.000528  1.000000  0.000779 -0.001012\n",
       "f2      -0.000448  0.000779  1.000000  0.445871\n",
       "product -0.001987 -0.001012  0.445871  1.000000"
      ]
     },
     "execution_count": 12,
     "metadata": {},
     "output_type": "execute_result"
    },
    {
     "data": {
      "image/png": "[encoded data removed]",
      "text/plain": [
       "<Figure size 432x288 with 4 Axes>"
      ]
     },
     "metadata": {
      "needs_background": "light"
     },
     "output_type": "display_data"
    }
   ],
   "source": [
    "display(data_2.head())\n",
    "data_2.info()\n",
    "len(data_2[data_2.duplicated()==True])\n",
    "data_2.hist(bins=50)\n",
    "data_2.corr()"
   ]
  },
  {
   "cell_type": "code",
   "execution_count": 13,
   "id": "425b669c",
   "metadata": {},
   "outputs": [
    {
     "data": {
      "text/plain": [
       "VF7Jo    2\n",
       "xCHr8    2\n",
       "KUPhW    2\n",
       "Vcm5J    2\n",
       "gjD8X    1\n",
       "57hvu    1\n",
       "07xhk    1\n",
       "7dFvf    1\n",
       "NEpwL    1\n",
       "jJwUz    1\n",
       "OLzOW    1\n",
       "PAWLQ    1\n",
       "alZKI    1\n",
       "8sjPy    1\n",
       "bGDup    1\n",
       "uArGD    1\n",
       "rSRz5    1\n",
       "dOHih    1\n",
       "47V7z    1\n",
       "Bhvau    1\n",
       "Name: id, dtype: int64"
      ]
     },
     "execution_count": 13,
     "metadata": {},
     "output_type": "execute_result"
    }
   ],
   "source": [
    "data_2['id'].value_counts().head(20)"
   ]
  },
  {
   "cell_type": "code",
   "execution_count": 14,
   "id": "6ce9c510",
   "metadata": {},
   "outputs": [],
   "source": [
    "data_2 = data_2.drop_duplicates(subset='id')"
   ]
  },
  {
   "cell_type": "markdown",
   "id": "e22bbc72",
   "metadata": {},
   "source": [
    "    f0, f1, f2 look like normally distributed\n",
    "    product has several peaks"
   ]
  },
  {
   "cell_type": "markdown",
   "id": "2a5163e4",
   "metadata": {},
   "source": [
    "    no duplicates, no Nan, data are clear"
   ]
  },
  {
   "cell_type": "markdown",
   "id": "d44ea0ce",
   "metadata": {},
   "source": [
    "# Linear Regression"
   ]
  },
  {
   "cell_type": "markdown",
   "id": "5ff1d7ea",
   "metadata": {},
   "source": [
    "## Prepare the data for training"
   ]
  },
  {
   "cell_type": "code",
   "execution_count": 15,
   "id": "e2f47308",
   "metadata": {},
   "outputs": [],
   "source": [
    "#create features and target datasets\n",
    "\n",
    "features_0 = data_0.drop(['id','product'], axis=1)\n",
    "target_0 = data_0['product']\n",
    "\n",
    "features_1 = data_1.drop(['id','product'], axis=1)\n",
    "target_1 = data_1['product']\n",
    "\n",
    "features_2 = data_2.drop(['id','product'], axis=1)\n",
    "target_2 = data_2['product']"
   ]
  },
  {
   "cell_type": "code",
   "execution_count": 16,
   "id": "70de0a42",
   "metadata": {},
   "outputs": [],
   "source": [
    "#split the data into train and validation datasets\n",
    "\n",
    "#region 0\n",
    "features_train_0, features_valid_0, target_train_0, target_valid_0 = (\n",
    "    train_test_split(features_0, target_0, test_size=0.25, random_state=23) )\n",
    "\n",
    "#region 1\n",
    "features_train_1, features_valid_1, target_train_1, target_valid_1 = (\n",
    "    train_test_split(features_1, target_1, test_size=0.25, random_state=23) )\n",
    "\n",
    "#region 2\n",
    "features_train_2, features_valid_2, target_train_2, target_valid_2 = (\n",
    "    train_test_split(features_2, target_2, test_size=0.25, random_state=23) )"
   ]
  },
  {
   "cell_type": "markdown",
   "id": "5e1ca5ba",
   "metadata": {},
   "source": [
    "## Train linear regression"
   ]
  },
  {
   "cell_type": "code",
   "execution_count": 17,
   "id": "d8e72637",
   "metadata": {},
   "outputs": [],
   "source": [
    "#region 0\n",
    "\n",
    "#scale the features\n",
    "scaler_0_norm = MinMaxScaler()\n",
    "scaler_0_norm.fit(features_train_0)\n",
    "features_train_0_norm = scaler_0_norm.transform(features_train_0)\n",
    "features_valid_0_norm = scaler_0_norm.transform(features_valid_0)\n",
    "\n",
    "model_0 = LinearRegression()\n",
    "model_0.fit(features_train_0_norm, target_train_0)\n",
    "predictions_0 = model_0.predict(features_valid_0_norm)\n",
    "RMSE_0 = (mean_squared_error(target_valid_0, predictions_0)) ** 0.5"
   ]
  },
  {
   "cell_type": "code",
   "execution_count": 18,
   "id": "4f999238",
   "metadata": {},
   "outputs": [],
   "source": [
    "#region 1\n",
    "scaler_1_norm = MinMaxScaler()\n",
    "scaler_1_norm.fit(features_train_1)\n",
    "features_train_1_norm = scaler_1_norm.transform(features_train_1)\n",
    "features_valid_1_norm = scaler_1_norm.transform(features_valid_1)\n",
    "\n",
    "model_1 = LinearRegression()\n",
    "model_1.fit(features_train_1_norm, target_train_1)\n",
    "predictions_1 = model_1.predict(features_valid_1_norm)\n",
    "RMSE_1 = (mean_squared_error(target_valid_1, predictions_1)) ** 0.5"
   ]
  },
  {
   "cell_type": "code",
   "execution_count": 19,
   "id": "60ee49eb",
   "metadata": {},
   "outputs": [],
   "source": [
    "#region 2\n",
    "scaler_2_norm = StandardScaler()\n",
    "scaler_2_norm.fit(features_train_2)\n",
    "features_train_2_norm = scaler_2_norm.transform(features_train_2)\n",
    "features_valid_2_norm = scaler_2_norm.transform(features_valid_2)\n",
    "\n",
    "model_2 = LinearRegression()\n",
    "model_2.fit(features_train_2_norm, target_train_2)\n",
    "predictions_2 = model_2.predict(features_valid_2_norm)\n",
    "RMSE_2 = (mean_squared_error(target_valid_2, predictions_2)) ** 0.5"
   ]
  },
  {
   "cell_type": "code",
   "execution_count": 20,
   "id": "052c3286",
   "metadata": {},
   "outputs": [
    {
     "name": "stdout",
     "output_type": "stream",
     "text": [
      "------------Region 0---------------\n",
      "RMSE in region 0 37.80423300367874\n",
      "Mean oil volume in region 0 is 92.4660743423489\n",
      "------------Region 1---------------\n",
      "RMSE in region 1 0.8878427799674208\n",
      "Mean oil volume in region 1 is 68.81347102138069\n",
      "------------Region 2---------------\n",
      "RMSE in region 2 40.078967698039776\n",
      "Mean oil volume in region 2 is 94.91760977948206\n"
     ]
    }
   ],
   "source": [
    "print('------------Region 0---------------')\n",
    "print(f'RMSE in region 0 {RMSE_0}')\n",
    "print(f'Mean oil volume in region 0 is {predictions_0.mean()}')\n",
    "print('------------Region 1---------------')\n",
    "print(f'RMSE in region 1 {RMSE_1}')\n",
    "print(f'Mean oil volume in region 1 is {predictions_1.mean()}')\n",
    "print('------------Region 2---------------')\n",
    "print(f'RMSE in region 2 {RMSE_2}')\n",
    "print(f'Mean oil volume in region 2 is {predictions_2.mean()}')"
   ]
  },
  {
   "cell_type": "markdown",
   "id": "ec251677",
   "metadata": {},
   "source": [
    "    According to  RMSE the best predictions are obtained for Region 1. But if one exclude correlated f2 feature, the quality of prediction strongly decreases. I used f2 for prediction because I don't see why I must drop it. \n",
    "    \n",
    "    Mean oil volume in all three regions is less than it is necessary according to approximate calculations."
   ]
  },
  {
   "cell_type": "markdown",
   "id": "817310a5",
   "metadata": {},
   "source": [
    "# Estimation of the target minimum oil volume"
   ]
  },
  {
   "cell_type": "code",
   "execution_count": 21,
   "id": "94833fc2",
   "metadata": {},
   "outputs": [
    {
     "name": "stdout",
     "output_type": "stream",
     "text": [
      "minimum volume (min_vol) enough to cover expenditures 111.11111111111111 barrels\n"
     ]
    }
   ],
   "source": [
    "#minimum volume (min_vol) enough to cover expenditures\n",
    "#TOTAL_BUDGET <= POINTS_BEST * vol * POINT_PROFIT\n",
    "#min_vol = TOTAL_BUDGET / (POINTS_BEST * POINT_PROFIT)\n",
    "\n",
    "min_vol = TOTAL_BUDGET / (POINTS_BEST * POINT_PROFIT)\n",
    "print(f'minimum volume (min_vol) enough to cover expenditures {min_vol} barrels')"
   ]
  },
  {
   "cell_type": "markdown",
   "id": "ab766c09",
   "metadata": {},
   "source": [
    "    min_vol is more than mean predicted amount in all three regions\n",
    "    have to work hard to choose points good enough"
   ]
  },
  {
   "cell_type": "markdown",
   "id": "87838507",
   "metadata": {},
   "source": [
    "# Bootstrap"
   ]
  },
  {
   "cell_type": "code",
   "execution_count": 22,
   "id": "06e27a62",
   "metadata": {},
   "outputs": [],
   "source": [
    "state = np.random.RandomState(23)"
   ]
  },
  {
   "cell_type": "code",
   "execution_count": 23,
   "id": "df815259",
   "metadata": {},
   "outputs": [],
   "source": [
    "#fucntion for profit calculations\n",
    "\n",
    "def max_profit(predictions,target):    \n",
    "    return (target.loc[predictions.sort_values(ascending=False).index][:POINTS_BEST].sum() * POINT_PROFIT-TOTAL_BUDGET) "
   ]
  },
  {
   "cell_type": "code",
   "execution_count": 24,
   "id": "e5c63f08",
   "metadata": {},
   "outputs": [
    {
     "name": "stdout",
     "output_type": "stream",
     "text": [
      "------------Region 0----------------------\n",
      "Средняя выручка 408.52 млн рублей\n",
      "2.5% profit quantile -117.05\n",
      "97.5% profit quantile 934.09\n",
      "Part of the risk 6.2%\n",
      "------------Region 1----------------------\n",
      "Средняя выручка 451.47 млн рублей\n",
      "2.5% profit quantile 41.74\n",
      "97.5% profit quantile 853.02\n",
      "Part of the risk 1.5%\n",
      "------------Region 2----------------------\n",
      "Средняя выручка 383.78 млн рублей\n",
      "2.5% profit quantile -135.28\n",
      "97.5% profit quantile 897.67\n",
      "Part of the risk 7.0%\n"
     ]
    }
   ],
   "source": [
    "#Bootstrap\n",
    "\n",
    "predictions_list = [predictions_0, predictions_1, predictions_2]\n",
    "target_list = [target_valid_0, target_valid_1, target_valid_2]\n",
    "\n",
    "for i in range(len(predictions_list)): \n",
    "    profit = []\n",
    "\n",
    "    target_np = np.array(target_list[i])\n",
    "    indexes = range(len(target_np))\n",
    "    \n",
    "    for j in range(1000):\n",
    "        indexes_sampled = np.random.choice(indexes, POINTS_CONSIDERED, replace=True)\n",
    "        predictions_np = predictions_list[i]\n",
    "        predictions = pd.Series(predictions_np[indexes_sampled])\n",
    "        target = pd.Series(target_np[indexes_sampled]) \n",
    "        profit.append(max_profit(predictions, target))\n",
    "    \n",
    "    profit = pd.Series(profit)\n",
    "    \n",
    "    print(f'------------Region {i}----------------------')\n",
    "    \n",
    "    print(f'Средняя выручка {round(profit.mean()/1e6,2)} млн рублей')\n",
    "    print(f'2.5% profit quantile {round(profit.quantile(0.025)/1e6,2)}')\n",
    "    print(f'97.5% profit quantile {round(profit.quantile(0.975)/1e6,2)}')\n",
    "\n",
    "    is_deficit = profit < 0\n",
    "    print('Part of the risk {:.1%}'.format(is_deficit.mean())) "
   ]
  },
  {
   "cell_type": "markdown",
   "id": "c9ff83a2",
   "metadata": {},
   "source": [
    "# Conclusion\n",
    "    In this project we considered  three regions to assess the mean profit and risks in every region. Under a given budget for mining, the minimum enough oil volume in one point should be approx 111 barrels. Mean volume in all three regions is not enough. After applying the model to the mining points selection,  Region 1 satisfies the requirements. Approximate profit equals 462 000 000 rubles. Risk of negative profit for the Region 1 is less than 1%.\n",
    "    \n",
    "    NB. Results for Region 1 are consistent with the task only. So we must suggest Region 1 for oil production. But it is necessary to clarify the input data for they are too strange. In case the data for Region 1 are not reliable and we cannot use them for Region 1, no regions satisfy the requirements."
   ]
  }
 ],
 "metadata": {
  "kernelspec": {
   "display_name": "Python 3 (ipykernel)",
   "language": "python",
   "name": "python3"
  },
  "language_info": {
   "codemirror_mode": {
    "name": "ipython",
    "version": 3
   },
   "file_extension": ".py",
   "mimetype": "text/x-python",
   "name": "python",
   "nbconvert_exporter": "python",
   "pygments_lexer": "ipython3",
   "version": "3.11.4"
  }
 },
 "nbformat": 4,
 "nbformat_minor": 5
}
